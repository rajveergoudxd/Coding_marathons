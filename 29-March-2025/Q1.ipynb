{
 "cells": [
  {
   "cell_type": "code",
   "execution_count": 5,
   "id": "c07b93e3-6634-4beb-872d-07386b38d16d",
   "metadata": {},
   "outputs": [
    {
     "data": {
      "text/plain": [
       "2"
      ]
     },
     "execution_count": 5,
     "metadata": {},
     "output_type": "execute_result"
    }
   ],
   "source": [
    "nums =[1,2,3]\n",
    "k = 3\n",
    "\n",
    "def arr_sum(nums, k):\n",
    "    count = 0\n",
    "    for i in range(0, len(nums)):\n",
    "        sum_no = 0\n",
    "        for j in range(i, len(nums)):\n",
    "            sum_no += nums[j]\n",
    "            if(sum_no == k):\n",
    "                count += 1;\n",
    "            else:\n",
    "                pass\n",
    "    return count;\n",
    "arr_sum(nums, k)"
   ]
  }
 ],
 "metadata": {
  "kernelspec": {
   "display_name": "Python 3 (ipykernel)",
   "language": "python",
   "name": "python3"
  },
  "language_info": {
   "codemirror_mode": {
    "name": "ipython",
    "version": 3
   },
   "file_extension": ".py",
   "mimetype": "text/x-python",
   "name": "python",
   "nbconvert_exporter": "python",
   "pygments_lexer": "ipython3",
   "version": "3.12.1"
  }
 },
 "nbformat": 4,
 "nbformat_minor": 5
}
