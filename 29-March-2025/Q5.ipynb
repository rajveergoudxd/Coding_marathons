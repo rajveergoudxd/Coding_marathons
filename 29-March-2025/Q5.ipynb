{
 "cells": [
  {
   "cell_type": "code",
   "execution_count": 34,
   "metadata": {},
   "outputs": [
    {
     "name": "stdout",
     "output_type": "stream",
     "text": [
      "['(']\n",
      "['(', '{']\n",
      "['(', '{']\n",
      "Invalid parenthesis\n"
     ]
    }
   ],
   "source": [
    "# given_str = \"()\"\n",
    "given_str2 = \"({}\"\n",
    "\n",
    "new_list = []\n",
    "\n",
    "def parenthesis_checker(given_str):\n",
    "    for i in range(0, len(given_str)):\n",
    "        if(given_str[i] == '(' or given_str[i] ==  '{' or given_str[i] ==  '['):\n",
    "            new_list.append(given_str[i])\n",
    "            print(new_list)\n",
    "        elif(len(new_list ) == 0 and (given_str[i] == ')' or given_str[i] == '}' or given_str[i] == ']')):\n",
    "            print(\"Invalid paranthesis\")\n",
    "            break\n",
    "        elif(len(new_list) != 0):\n",
    "            print(new_list)\n",
    "            if (new_list[len(new_list)-1] == '(' and given_str[i] == ')'):\n",
    "                new_list.pop()\n",
    "            elif (new_list[len(new_list)-1] == '{' and given_str[i] == '}'):\n",
    "                new_list.pop()\n",
    "            elif (new_list[len(new_list)-1] == '[' and given_str[i] == ']'):\n",
    "                new_list.pop()\n",
    "            else:\n",
    "                print(\"Invalid Paranthesis\")\n",
    "                break\n",
    "        \n",
    "    else:\n",
    "        if(len(new_list) == 0):\n",
    "            print(\"Valid parenthesis\")\n",
    "        else:\n",
    "            print(\"Invalid parenthesis\")\n",
    "\n",
    "parenthesis_checker(given_str2)\n"
   ]
  }
 ],
 "metadata": {
  "kernelspec": {
   "display_name": "Python 3",
   "language": "python",
   "name": "python3"
  },
  "language_info": {
   "codemirror_mode": {
    "name": "ipython",
    "version": 3
   },
   "file_extension": ".py",
   "mimetype": "text/x-python",
   "name": "python",
   "nbconvert_exporter": "python",
   "pygments_lexer": "ipython3",
   "version": "3.12.1"
  }
 },
 "nbformat": 4,
 "nbformat_minor": 2
}
