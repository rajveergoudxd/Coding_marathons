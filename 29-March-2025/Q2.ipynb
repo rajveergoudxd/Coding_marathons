{
 "cells": [
  {
   "cell_type": "code",
   "execution_count": 4,
   "id": "983a34d2-b61b-4b5a-957d-ff2deec030b0",
   "metadata": {},
   "outputs": [
    {
     "data": {
      "text/plain": [
       "6"
      ]
     },
     "execution_count": 4,
     "metadata": {},
     "output_type": "execute_result"
    }
   ],
   "source": [
    "nums = [-2,1,-3,4,-1,2,1,-5,4]\n",
    "\n",
    "def largest_subarray_sum(nums):\n",
    "    largest = 0\n",
    "    for i in range(0, len(nums)):\n",
    "        sum_no = 0\n",
    "        for j in range(i, len(nums)):\n",
    "            sum_no += nums[j]\n",
    "            # print(sum_no)\n",
    "        # print(\" \")\n",
    "            largest = max(sum_no, largest)\n",
    "    return largest\n",
    "\n",
    "largest_subarray_sum(nums)\n",
    "            \n"
   ]
  },
  {
   "cell_type": "code",
   "execution_count": null,
   "id": "4ed8b5d8-27eb-4129-af8e-15ed72c58194",
   "metadata": {},
   "outputs": [],
   "source": []
  }
 ],
 "metadata": {
  "kernelspec": {
   "display_name": "Python 3",
   "language": "python",
   "name": "python3"
  },
  "language_info": {
   "codemirror_mode": {
    "name": "ipython",
    "version": 3
   },
   "file_extension": ".py",
   "mimetype": "text/x-python",
   "name": "python",
   "nbconvert_exporter": "python",
   "pygments_lexer": "ipython3",
   "version": "3.12.1"
  }
 },
 "nbformat": 4,
 "nbformat_minor": 5
}
