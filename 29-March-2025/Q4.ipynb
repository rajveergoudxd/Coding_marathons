{
 "cells": [
  {
   "cell_type": "code",
   "execution_count": 1,
   "metadata": {},
   "outputs": [
    {
     "name": "stdout",
     "output_type": "stream",
     "text": [
      "3\n",
      "Item Found\n"
     ]
    }
   ],
   "source": [
    "nums = [-1,0,3,5,9,12]\n",
    "target = 9\n",
    "\n",
    "def binary_search(nums, target):\n",
    "    start = 0\n",
    "    end = len(nums)-1\n",
    "    mid = int((start+end)/2)\n",
    "    while(start < end):\n",
    "        # mid = int((start+end)/2)    \n",
    "        if(target == nums[mid]):\n",
    "            print(\"Item Found\")\n",
    "            break\n",
    "        elif(target > mid):\n",
    "            start = mid+1\n",
    "            print(start)\n",
    "        elif (target < mid):\n",
    "            end = mid-1\n",
    "            print(end)\n",
    "        else:\n",
    "            print(\"Item not found in the array\")\n",
    "        mid = int((start+end)/2)\n",
    "binary_search(nums, target)"
   ]
  }
 ],
 "metadata": {
  "kernelspec": {
   "display_name": "Python 3",
   "language": "python",
   "name": "python3"
  },
  "language_info": {
   "codemirror_mode": {
    "name": "ipython",
    "version": 3
   },
   "file_extension": ".py",
   "mimetype": "text/x-python",
   "name": "python",
   "nbconvert_exporter": "python",
   "pygments_lexer": "ipython3",
   "version": "3.12.1"
  }
 },
 "nbformat": 4,
 "nbformat_minor": 2
}
