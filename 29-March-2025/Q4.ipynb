{
 "cells": [
  {
   "cell_type": "code",
   "execution_count": null,
   "metadata": {},
   "outputs": [
    {
     "ename": "KeyboardInterrupt",
     "evalue": "",
     "output_type": "error",
     "traceback": [
      "\u001b[31m---------------------------------------------------------------------------\u001b[39m",
      "\u001b[31mKeyboardInterrupt\u001b[39m                         Traceback (most recent call last)",
      "\u001b[36mCell\u001b[39m\u001b[36m \u001b[39m\u001b[32mIn[5]\u001b[39m\u001b[32m, line 23\u001b[39m\n\u001b[32m     20\u001b[39m             \u001b[38;5;28mprint\u001b[39m(\u001b[33m\"\u001b[39m\u001b[33mItem not found in the array\u001b[39m\u001b[33m\"\u001b[39m)\n\u001b[32m     21\u001b[39m             \u001b[38;5;28;01mbreak\u001b[39;00m\n\u001b[32m---> \u001b[39m\u001b[32m23\u001b[39m \u001b[43mbinary_search\u001b[49m\u001b[43m(\u001b[49m\u001b[43mnums\u001b[49m\u001b[43m,\u001b[49m\u001b[43m \u001b[49m\u001b[43mtarget\u001b[49m\u001b[43m)\u001b[49m\n",
      "\u001b[36mCell\u001b[39m\u001b[36m \u001b[39m\u001b[32mIn[5]\u001b[39m\u001b[32m, line 9\u001b[39m, in \u001b[36mbinary_search\u001b[39m\u001b[34m(nums, target)\u001b[39m\n\u001b[32m      6\u001b[39m end = \u001b[38;5;28mlen\u001b[39m(nums)\n\u001b[32m      8\u001b[39m \u001b[38;5;28;01mwhile\u001b[39;00m(\u001b[38;5;28;01mTrue\u001b[39;00m):\n\u001b[32m----> \u001b[39m\u001b[32m9\u001b[39m     mid = \u001b[38;5;28;43mint\u001b[39;49m\u001b[43m(\u001b[49m\u001b[43m(\u001b[49m\u001b[43mstart\u001b[49m\u001b[43m+\u001b[49m\u001b[43mend\u001b[49m\u001b[43m)\u001b[49m\u001b[43m/\u001b[49m\u001b[32;43m2\u001b[39;49m\u001b[43m)\u001b[49m    \n\u001b[32m     10\u001b[39m     \u001b[38;5;28;01mif\u001b[39;00m(target == mid):\n\u001b[32m     11\u001b[39m         \u001b[38;5;28;01mreturn\u001b[39;00m mid\n",
      "\u001b[31mKeyboardInterrupt\u001b[39m: "
     ]
    }
   ],
   "source": [
    "nums = [-1,0,3,5,9,12]\n",
    "target = 9\n",
    "\n",
    "def binary_search(nums, target):\n",
    "    start = 0\n",
    "    end = len(nums)\n",
    "    \n",
    "    while():\n",
    "        mid = int((start+end)/2)    \n",
    "        if(target == mid):\n",
    "            return mid\n",
    "            break\n",
    "        elif(target > mid):\n",
    "            start = mid+1\n",
    "        elif (target < mid):\n",
    "            end = mid-1\n",
    "        else:\n",
    "            print(\"Item not found in the array\")\n",
    "\n",
    "binary_search(nums, target)"
   ]
  }
 ],
 "metadata": {
  "kernelspec": {
   "display_name": "Python 3",
   "language": "python",
   "name": "python3"
  },
  "language_info": {
   "codemirror_mode": {
    "name": "ipython",
    "version": 3
   },
   "file_extension": ".py",
   "mimetype": "text/x-python",
   "name": "python",
   "nbconvert_exporter": "python",
   "pygments_lexer": "ipython3",
   "version": "3.12.1"
  }
 },
 "nbformat": 4,
 "nbformat_minor": 2
}
