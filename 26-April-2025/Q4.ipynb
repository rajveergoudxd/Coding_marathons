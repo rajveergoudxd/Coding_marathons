{
 "cells": [
  {
   "cell_type": "code",
   "execution_count": null,
   "id": "acea69fc",
   "metadata": {},
   "outputs": [
    {
     "ename": "TypeError",
     "evalue": "'set' object is not subscriptable",
     "output_type": "error",
     "traceback": [
      "\u001b[31m---------------------------------------------------------------------------\u001b[39m",
      "\u001b[31mTypeError\u001b[39m                                 Traceback (most recent call last)",
      "\u001b[36mCell\u001b[39m\u001b[36m \u001b[39m\u001b[32mIn[4]\u001b[39m\u001b[32m, line 15\u001b[39m\n\u001b[32m     12\u001b[39m         right = {item \u001b[38;5;28;01mfor\u001b[39;00m item \u001b[38;5;129;01min\u001b[39;00m arr \u001b[38;5;28;01mif\u001b[39;00m item > pivot}\n\u001b[32m     13\u001b[39m         \u001b[38;5;28;01mreturn\u001b[39;00m quick_sort(left)+ middle +quick_sort(right)\n\u001b[32m---> \u001b[39m\u001b[32m15\u001b[39m \u001b[43mquick_sort\u001b[49m\u001b[43m(\u001b[49m\u001b[43mlst\u001b[49m\u001b[43m)\u001b[49m\n\u001b[32m     16\u001b[39m \u001b[38;5;28mprint\u001b[39m(lst)\n",
      "\u001b[36mCell\u001b[39m\u001b[36m \u001b[39m\u001b[32mIn[4]\u001b[39m\u001b[32m, line 13\u001b[39m, in \u001b[36mquick_sort\u001b[39m\u001b[34m(arr)\u001b[39m\n\u001b[32m     11\u001b[39m middle = {item \u001b[38;5;28;01mfor\u001b[39;00m item \u001b[38;5;129;01min\u001b[39;00m arr \u001b[38;5;28;01mif\u001b[39;00m item == pivot}\n\u001b[32m     12\u001b[39m right = {item \u001b[38;5;28;01mfor\u001b[39;00m item \u001b[38;5;129;01min\u001b[39;00m arr \u001b[38;5;28;01mif\u001b[39;00m item > pivot}\n\u001b[32m---> \u001b[39m\u001b[32m13\u001b[39m \u001b[38;5;28;01mreturn\u001b[39;00m \u001b[43mquick_sort\u001b[49m\u001b[43m(\u001b[49m\u001b[43mleft\u001b[49m\u001b[43m)\u001b[49m+ middle +quick_sort(right)\n",
      "\u001b[36mCell\u001b[39m\u001b[36m \u001b[39m\u001b[32mIn[4]\u001b[39m\u001b[32m, line 9\u001b[39m, in \u001b[36mquick_sort\u001b[39m\u001b[34m(arr)\u001b[39m\n\u001b[32m      7\u001b[39m     \u001b[38;5;28;01mreturn\u001b[39;00m arr\n\u001b[32m      8\u001b[39m \u001b[38;5;28;01melse\u001b[39;00m:            \n\u001b[32m----> \u001b[39m\u001b[32m9\u001b[39m     pivot = \u001b[43marr\u001b[49m\u001b[43m[\u001b[49m\u001b[38;5;28;43mlen\u001b[39;49m\u001b[43m(\u001b[49m\u001b[43mlst\u001b[49m\u001b[43m)\u001b[49m\u001b[43m/\u001b[49m\u001b[43m/\u001b[49m\u001b[32;43m2\u001b[39;49m\u001b[43m]\u001b[49m\n\u001b[32m     10\u001b[39m     left = {item \u001b[38;5;28;01mfor\u001b[39;00m item \u001b[38;5;129;01min\u001b[39;00m arr \u001b[38;5;28;01mif\u001b[39;00m item < pivot}\n\u001b[32m     11\u001b[39m     middle = {item \u001b[38;5;28;01mfor\u001b[39;00m item \u001b[38;5;129;01min\u001b[39;00m arr \u001b[38;5;28;01mif\u001b[39;00m item == pivot}\n",
      "\u001b[31mTypeError\u001b[39m: 'set' object is not subscriptable"
     ]
    }
   ],
   "source": [
    "# Quick Sort\n",
    "# Tried my best, couldn't figure out what's the error\n",
    "\n",
    "lst = [45,10,34,26,5,60]\n",
    "\n",
    "def quick_sort(arr):\n",
    "    if(len(arr)<=1):\n",
    "        return arr\n",
    "    else:            \n",
    "        pivot = arr[len(lst)//2]\n",
    "        left = {item for item in arr if item < pivot}\n",
    "        middle = {item for item in arr if item == pivot}\n",
    "        right = {item for item in arr if item > pivot}\n",
    "        return quick_sort(left)+ middle +quick_sort(right)\n",
    "\n",
    "quick_sort(lst)\n",
    "print(lst)"
   ]
  },
  {
   "cell_type": "code",
   "execution_count": null,
   "id": "1872538c",
   "metadata": {},
   "outputs": [],
   "source": []
  }
 ],
 "metadata": {
  "kernelspec": {
   "display_name": "Python 3",
   "language": "python",
   "name": "python3"
  },
  "language_info": {
   "codemirror_mode": {
    "name": "ipython",
    "version": 3
   },
   "file_extension": ".py",
   "mimetype": "text/x-python",
   "name": "python",
   "nbconvert_exporter": "python",
   "pygments_lexer": "ipython3",
   "version": "3.12.1"
  }
 },
 "nbformat": 4,
 "nbformat_minor": 5
}
