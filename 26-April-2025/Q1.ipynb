{
 "cells": [
  {
   "cell_type": "code",
   "execution_count": null,
   "id": "887a8c10",
   "metadata": {},
   "outputs": [
    {
     "ename": "RecursionError",
     "evalue": "maximum recursion depth exceeded",
     "output_type": "error",
     "traceback": [
      "\u001b[31m---------------------------------------------------------------------------\u001b[39m",
      "\u001b[31mRecursionError\u001b[39m                            Traceback (most recent call last)",
      "\u001b[36mCell\u001b[39m\u001b[36m \u001b[39m\u001b[32mIn[4]\u001b[39m\u001b[32m, line 29\u001b[39m\n\u001b[32m     25\u001b[39m     merged.extend(right[:indx2])\n\u001b[32m     27\u001b[39m     \u001b[38;5;28;01mreturn\u001b[39;00m merged\n\u001b[32m---> \u001b[39m\u001b[32m29\u001b[39m final = \u001b[43mmerge_sort\u001b[49m\u001b[43m(\u001b[49m\u001b[43mlst\u001b[49m\u001b[43m)\u001b[49m\n\u001b[32m     30\u001b[39m \u001b[38;5;28mprint\u001b[39m(final)\n",
      "\u001b[36mCell\u001b[39m\u001b[36m \u001b[39m\u001b[32mIn[4]\u001b[39m\u001b[32m, line 8\u001b[39m, in \u001b[36mmerge_sort\u001b[39m\u001b[34m(arr)\u001b[39m\n\u001b[32m      5\u001b[39m \u001b[38;5;28;01mdef\u001b[39;00m\u001b[38;5;250m \u001b[39m\u001b[34mmerge_sort\u001b[39m(arr):\n\u001b[32m      7\u001b[39m     middle = \u001b[38;5;28mlen\u001b[39m(lst)//\u001b[32m2\u001b[39m\n\u001b[32m----> \u001b[39m\u001b[32m8\u001b[39m     left = \u001b[43mmerge_sort\u001b[49m\u001b[43m(\u001b[49m\u001b[43marr\u001b[49m\u001b[43m[\u001b[49m\u001b[43mmiddle\u001b[49m\u001b[43m:\u001b[49m\u001b[43m]\u001b[49m\u001b[43m)\u001b[49m\n\u001b[32m     10\u001b[39m     right = merge_sort(arr[:middle])\n\u001b[32m     11\u001b[39m     \u001b[38;5;28;01mreturn\u001b[39;00m merge(left, right)\n",
      "\u001b[36mCell\u001b[39m\u001b[36m \u001b[39m\u001b[32mIn[4]\u001b[39m\u001b[32m, line 8\u001b[39m, in \u001b[36mmerge_sort\u001b[39m\u001b[34m(arr)\u001b[39m\n\u001b[32m      5\u001b[39m \u001b[38;5;28;01mdef\u001b[39;00m\u001b[38;5;250m \u001b[39m\u001b[34mmerge_sort\u001b[39m(arr):\n\u001b[32m      7\u001b[39m     middle = \u001b[38;5;28mlen\u001b[39m(lst)//\u001b[32m2\u001b[39m\n\u001b[32m----> \u001b[39m\u001b[32m8\u001b[39m     left = \u001b[43mmerge_sort\u001b[49m\u001b[43m(\u001b[49m\u001b[43marr\u001b[49m\u001b[43m[\u001b[49m\u001b[43mmiddle\u001b[49m\u001b[43m:\u001b[49m\u001b[43m]\u001b[49m\u001b[43m)\u001b[49m\n\u001b[32m     10\u001b[39m     right = merge_sort(arr[:middle])\n\u001b[32m     11\u001b[39m     \u001b[38;5;28;01mreturn\u001b[39;00m merge(left, right)\n",
      "    \u001b[31m[... skipping similar frames: merge_sort at line 8 (2974 times)]\u001b[39m\n",
      "\u001b[36mCell\u001b[39m\u001b[36m \u001b[39m\u001b[32mIn[4]\u001b[39m\u001b[32m, line 8\u001b[39m, in \u001b[36mmerge_sort\u001b[39m\u001b[34m(arr)\u001b[39m\n\u001b[32m      5\u001b[39m \u001b[38;5;28;01mdef\u001b[39;00m\u001b[38;5;250m \u001b[39m\u001b[34mmerge_sort\u001b[39m(arr):\n\u001b[32m      7\u001b[39m     middle = \u001b[38;5;28mlen\u001b[39m(lst)//\u001b[32m2\u001b[39m\n\u001b[32m----> \u001b[39m\u001b[32m8\u001b[39m     left = \u001b[43mmerge_sort\u001b[49m\u001b[43m(\u001b[49m\u001b[43marr\u001b[49m\u001b[43m[\u001b[49m\u001b[43mmiddle\u001b[49m\u001b[43m:\u001b[49m\u001b[43m]\u001b[49m\u001b[43m)\u001b[49m\n\u001b[32m     10\u001b[39m     right = merge_sort(arr[:middle])\n\u001b[32m     11\u001b[39m     \u001b[38;5;28;01mreturn\u001b[39;00m merge(left, right)\n",
      "\u001b[31mRecursionError\u001b[39m: maximum recursion depth exceeded"
     ]
    }
   ],
   "source": [
    "# Merge Sort\n",
    "# Couldn't figure out what's the error\n",
    "\n",
    "lst = [23,45,65,76,87,43]\n",
    "\n",
    "def merge_sort(arr):\n",
    "    \n",
    "    middle = len(lst)//2\n",
    "    left = merge_sort(arr[:middle])\n",
    "    \n",
    "    right = merge_sort(arr[middle:])\n",
    "    return merge(left, right)\n",
    "\n",
    "def merge(left, right):\n",
    "    merged=[]\n",
    "    indx = 0\n",
    "    indx2 = 0\n",
    "    while (indx < len(left) and indx2 < len(right)):\n",
    "        if(left[indx] < right[indx2]):\n",
    "            merged.append(left[indx])\n",
    "            indx+=1\n",
    "        else:\n",
    "            merged.append(right[indx2])\n",
    "            indx2+=1\n",
    "    merged.extend(left[indx:])\n",
    "    merged.extend(right[:indx2])\n",
    "\n",
    "    return merged\n",
    "\n",
    "final = merge_sort(lst)\n",
    "print(final)\n",
    "\n"
   ]
  },
  {
   "cell_type": "code",
   "execution_count": null,
   "id": "c6e9b170",
   "metadata": {},
   "outputs": [],
   "source": []
  },
  {
   "cell_type": "code",
   "execution_count": null,
   "id": "b7aaa382",
   "metadata": {},
   "outputs": [],
   "source": []
  }
 ],
 "metadata": {
  "kernelspec": {
   "display_name": "Python 3",
   "language": "python",
   "name": "python3"
  },
  "language_info": {
   "codemirror_mode": {
    "name": "ipython",
    "version": 3
   },
   "file_extension": ".py",
   "mimetype": "text/x-python",
   "name": "python",
   "nbconvert_exporter": "python",
   "pygments_lexer": "ipython3",
   "version": "3.12.1"
  }
 },
 "nbformat": 4,
 "nbformat_minor": 5
}
