{
 "cells": [
  {
   "cell_type": "code",
   "execution_count": 6,
   "id": "f19714e4",
   "metadata": {},
   "outputs": [
    {
     "name": "stdout",
     "output_type": "stream",
     "text": [
      "[5, 10, 26, 34, 45, 60]\n"
     ]
    }
   ],
   "source": [
    "# Insertion Sort\n",
    "\n",
    "lst = [45,10,34,26,5,60]\n",
    "\n",
    "def insertion_sort(arr):\n",
    "    for i in range(len(lst)):\n",
    "        for j in range(i+1, len(lst)):\n",
    "            key = lst[j]\n",
    "            if(lst[i]>lst[j]):\n",
    "                lst[j] = lst[i]\n",
    "                lst[i] = key\n",
    "\n",
    "insertion_sort(lst)\n",
    "print(lst)\n"
   ]
  },
  {
   "cell_type": "code",
   "execution_count": null,
   "id": "4152f024",
   "metadata": {},
   "outputs": [],
   "source": []
  }
 ],
 "metadata": {
  "kernelspec": {
   "display_name": "Python 3",
   "language": "python",
   "name": "python3"
  },
  "language_info": {
   "codemirror_mode": {
    "name": "ipython",
    "version": 3
   },
   "file_extension": ".py",
   "mimetype": "text/x-python",
   "name": "python",
   "nbconvert_exporter": "python",
   "pygments_lexer": "ipython3",
   "version": "3.12.1"
  }
 },
 "nbformat": 4,
 "nbformat_minor": 5
}
