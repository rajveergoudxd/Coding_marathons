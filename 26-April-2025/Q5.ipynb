{
 "cells": [
  {
   "cell_type": "code",
   "execution_count": null,
   "id": "d966f130",
   "metadata": {},
   "outputs": [],
   "source": [
    "# Selection Sort\n",
    "# Couldn't solve it, will do better next time"
   ]
  }
 ],
 "metadata": {
  "language_info": {
   "name": "python"
  }
 },
 "nbformat": 4,
 "nbformat_minor": 5
}
