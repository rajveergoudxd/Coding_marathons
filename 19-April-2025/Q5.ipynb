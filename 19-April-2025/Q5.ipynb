{
 "cells": [
  {
   "cell_type": "code",
   "execution_count": 15,
   "id": "011099f0",
   "metadata": {},
   "outputs": [
    {
     "name": "stdout",
     "output_type": "stream",
     "text": [
      "{'Child': 2, 'Teen': 1, 'Adult': 4, 'Senior': 4}\n"
     ]
    }
   ],
   "source": [
    "ages = [5, 12, 17, 18, 24, 32, 45, 60, 75, 88, 90]\n",
    "\n",
    "result = list(map(lambda a: 'Child' if a<13 else 'Teen' if (a>=13 and a<18) else 'Adult' if (a>=18 and a<60) else 'Senior',ages))\n",
    "\n",
    "dict = {\n",
    "    \"Child\":result.count('Child'),\n",
    "    \"Teen\":result.count('Teen'),\n",
    "    \"Adult\":result.count('Adult'),\n",
    "    \"Senior\":result.count(\"Senior\")\n",
    "}\n",
    "print(dict)"
   ]
  },
  {
   "cell_type": "code",
   "execution_count": null,
   "id": "e3ed1f31",
   "metadata": {},
   "outputs": [],
   "source": []
  }
 ],
 "metadata": {
  "kernelspec": {
   "display_name": "Python 3",
   "language": "python",
   "name": "python3"
  },
  "language_info": {
   "codemirror_mode": {
    "name": "ipython",
    "version": 3
   },
   "file_extension": ".py",
   "mimetype": "text/x-python",
   "name": "python",
   "nbconvert_exporter": "python",
   "pygments_lexer": "ipython3",
   "version": "3.12.1"
  }
 },
 "nbformat": 4,
 "nbformat_minor": 5
}
