{
 "cells": [
  {
   "cell_type": "code",
   "execution_count": 4,
   "id": "dc9b9b6f-16d0-43d7-88c2-5d884f493644",
   "metadata": {},
   "outputs": [
    {
     "name": "stdout",
     "output_type": "stream",
     "text": [
      "['Child', 'Child', 'Teen', 'Adult', 'Adult', 'Adult', 'Adult', 'Senior', 'Senior', 'Senior', 'Senior']\n"
     ]
    }
   ],
   "source": [
    "ages = [5, 12, 17, 18, 24, 32, 45, 60, 75, 88, 90]\n",
    "\n",
    "result = list(map(lambda a: 'Child' if a<13 else 'Teen' if (a>=13 and a<18) else 'Adult' if (a>=18 and a<60) else 'Senior',ages))\n",
    "print(result)"
   ]
  },
  {
   "cell_type": "code",
   "execution_count": null,
   "id": "c36eccac-60d8-4745-bf4d-17b6fc4ea977",
   "metadata": {},
   "outputs": [],
   "source": []
  }
 ],
 "metadata": {
  "kernelspec": {
   "display_name": "Python 3",
   "language": "python",
   "name": "python3"
  },
  "language_info": {
   "codemirror_mode": {
    "name": "ipython",
    "version": 3
   },
   "file_extension": ".py",
   "mimetype": "text/x-python",
   "name": "python",
   "nbconvert_exporter": "python",
   "pygments_lexer": "ipython3",
   "version": "3.12.1"
  }
 },
 "nbformat": 4,
 "nbformat_minor": 5
}
