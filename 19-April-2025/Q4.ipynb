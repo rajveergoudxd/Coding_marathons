{
 "cells": [
  {
   "cell_type": "code",
   "execution_count": 2,
   "id": "cd9e09e8",
   "metadata": {},
   "outputs": [
    {
     "name": "stdout",
     "output_type": "stream",
     "text": [
      "[36, 48, 64, 90, 120, 150, 176, 180]\n"
     ]
    }
   ],
   "source": [
    "ages = [5, 12, 17, 18, 24, 32, 45, 60, 75, 88, 90]\n",
    "\n",
    "result = list(filter(lambda a: a>=18, ages))\n",
    "print(list(map(lambda a:2*a,result)))"
   ]
  },
  {
   "cell_type": "code",
   "execution_count": null,
   "id": "a1dc9800",
   "metadata": {},
   "outputs": [],
   "source": []
  }
 ],
 "metadata": {
  "kernelspec": {
   "display_name": "Python 3",
   "language": "python",
   "name": "python3"
  },
  "language_info": {
   "codemirror_mode": {
    "name": "ipython",
    "version": 3
   },
   "file_extension": ".py",
   "mimetype": "text/x-python",
   "name": "python",
   "nbconvert_exporter": "python",
   "pygments_lexer": "ipython3",
   "version": "3.12.1"
  }
 },
 "nbformat": 4,
 "nbformat_minor": 5
}
