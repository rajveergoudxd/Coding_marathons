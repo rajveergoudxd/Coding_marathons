{
 "cells": [
  {
   "cell_type": "code",
   "execution_count": 23,
   "id": "3759a2d9",
   "metadata": {},
   "outputs": [
    {
     "name": "stdout",
     "output_type": "stream",
     "text": [
      "a2b3c4d2a3\n"
     ]
    }
   ],
   "source": [
    "g = \"aabbbccccddaaa\"\n",
    "\n",
    "g1 = []\n",
    "\n",
    "count = 1\n",
    "for i in range(1, len(g)):\n",
    "    if(g[i] == g[i-1]):\n",
    "        count+=1\n",
    "    else:\n",
    "        g1.append(g[i-1] + str(count))\n",
    "        count = 1\n",
    "g1.append(g[-1] + str(count))\n",
    "s1=\"\".join(g1)\n",
    "print(s1)\n"
   ]
  },
  {
   "cell_type": "code",
   "execution_count": null,
   "id": "a04fe55e",
   "metadata": {},
   "outputs": [],
   "source": []
  }
 ],
 "metadata": {
  "kernelspec": {
   "display_name": "Python 3",
   "language": "python",
   "name": "python3"
  },
  "language_info": {
   "codemirror_mode": {
    "name": "ipython",
    "version": 3
   },
   "file_extension": ".py",
   "mimetype": "text/x-python",
   "name": "python",
   "nbconvert_exporter": "python",
   "pygments_lexer": "ipython3",
   "version": "3.12.1"
  }
 },
 "nbformat": 4,
 "nbformat_minor": 5
}
